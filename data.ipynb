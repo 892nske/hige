{
 "cells": [
  {
   "cell_type": "code",
   "execution_count": 1,
   "id": "9b4c0ff2-f5bb-4edb-8682-24d1c38a6c01",
   "metadata": {},
   "outputs": [],
   "source": [
    "import ccxt\n",
    "from crypto_data_fetcher.bybit import BybitFetcher\n",
    "import pandas as pd"
   ]
  },
  {
   "cell_type": "code",
   "execution_count": 2,
   "id": "eea78b65-45f8-4c98-b233-2e539d063a2c",
   "metadata": {},
   "outputs": [
    {
     "data": {
      "text/html": [
       "<div>\n",
       "<style scoped>\n",
       "    .dataframe tbody tr th:only-of-type {\n",
       "        vertical-align: middle;\n",
       "    }\n",
       "\n",
       "    .dataframe tbody tr th {\n",
       "        vertical-align: top;\n",
       "    }\n",
       "\n",
       "    .dataframe thead th {\n",
       "        text-align: right;\n",
       "    }\n",
       "</style>\n",
       "<table border=\"1\" class=\"dataframe\">\n",
       "  <thead>\n",
       "    <tr style=\"text-align: right;\">\n",
       "      <th></th>\n",
       "      <th>op</th>\n",
       "      <th>hi</th>\n",
       "      <th>lo</th>\n",
       "      <th>cl</th>\n",
       "      <th>volume</th>\n",
       "    </tr>\n",
       "    <tr>\n",
       "      <th>timestamp</th>\n",
       "      <th></th>\n",
       "      <th></th>\n",
       "      <th></th>\n",
       "      <th></th>\n",
       "      <th></th>\n",
       "    </tr>\n",
       "  </thead>\n",
       "  <tbody>\n",
       "    <tr>\n",
       "      <th>2020-03-25 06:37:25+00:00</th>\n",
       "      <td>6500.0</td>\n",
       "      <td>6500.0</td>\n",
       "      <td>6500.0</td>\n",
       "      <td>6500.0</td>\n",
       "      <td>0.000</td>\n",
       "    </tr>\n",
       "    <tr>\n",
       "      <th>2020-03-25 10:36:00+00:00</th>\n",
       "      <td>6500.0</td>\n",
       "      <td>6500.0</td>\n",
       "      <td>6500.0</td>\n",
       "      <td>6500.0</td>\n",
       "      <td>0.001</td>\n",
       "    </tr>\n",
       "    <tr>\n",
       "      <th>2020-03-25 10:37:00+00:00</th>\n",
       "      <td>6500.0</td>\n",
       "      <td>6500.0</td>\n",
       "      <td>6500.0</td>\n",
       "      <td>6500.0</td>\n",
       "      <td>0.000</td>\n",
       "    </tr>\n",
       "    <tr>\n",
       "      <th>2020-03-25 10:38:00+00:00</th>\n",
       "      <td>6500.0</td>\n",
       "      <td>6500.0</td>\n",
       "      <td>6500.0</td>\n",
       "      <td>6500.0</td>\n",
       "      <td>0.000</td>\n",
       "    </tr>\n",
       "    <tr>\n",
       "      <th>2020-03-25 10:39:00+00:00</th>\n",
       "      <td>6500.0</td>\n",
       "      <td>6500.0</td>\n",
       "      <td>6500.0</td>\n",
       "      <td>6500.0</td>\n",
       "      <td>0.000</td>\n",
       "    </tr>\n",
       "    <tr>\n",
       "      <th>...</th>\n",
       "      <td>...</td>\n",
       "      <td>...</td>\n",
       "      <td>...</td>\n",
       "      <td>...</td>\n",
       "      <td>...</td>\n",
       "    </tr>\n",
       "    <tr>\n",
       "      <th>2022-01-01 15:07:00+00:00</th>\n",
       "      <td>46972.5</td>\n",
       "      <td>46972.5</td>\n",
       "      <td>46972.0</td>\n",
       "      <td>46972.0</td>\n",
       "      <td>5.794</td>\n",
       "    </tr>\n",
       "    <tr>\n",
       "      <th>2022-01-01 15:08:00+00:00</th>\n",
       "      <td>46972.0</td>\n",
       "      <td>46972.5</td>\n",
       "      <td>46972.0</td>\n",
       "      <td>46972.5</td>\n",
       "      <td>17.241</td>\n",
       "    </tr>\n",
       "    <tr>\n",
       "      <th>2022-01-01 15:09:00+00:00</th>\n",
       "      <td>46972.5</td>\n",
       "      <td>46972.5</td>\n",
       "      <td>46950.0</td>\n",
       "      <td>46950.0</td>\n",
       "      <td>8.212</td>\n",
       "    </tr>\n",
       "    <tr>\n",
       "      <th>2022-01-01 15:10:00+00:00</th>\n",
       "      <td>46950.0</td>\n",
       "      <td>46950.5</td>\n",
       "      <td>46939.0</td>\n",
       "      <td>46939.0</td>\n",
       "      <td>2.851</td>\n",
       "    </tr>\n",
       "    <tr>\n",
       "      <th>2022-01-01 15:11:00+00:00</th>\n",
       "      <td>46939.0</td>\n",
       "      <td>46939.0</td>\n",
       "      <td>46926.0</td>\n",
       "      <td>46926.5</td>\n",
       "      <td>13.262</td>\n",
       "    </tr>\n",
       "  </tbody>\n",
       "</table>\n",
       "<p>931957 rows × 5 columns</p>\n",
       "</div>"
      ],
      "text/plain": [
       "                                op       hi       lo       cl  volume\n",
       "timestamp                                                            \n",
       "2020-03-25 06:37:25+00:00   6500.0   6500.0   6500.0   6500.0   0.000\n",
       "2020-03-25 10:36:00+00:00   6500.0   6500.0   6500.0   6500.0   0.001\n",
       "2020-03-25 10:37:00+00:00   6500.0   6500.0   6500.0   6500.0   0.000\n",
       "2020-03-25 10:38:00+00:00   6500.0   6500.0   6500.0   6500.0   0.000\n",
       "2020-03-25 10:39:00+00:00   6500.0   6500.0   6500.0   6500.0   0.000\n",
       "...                            ...      ...      ...      ...     ...\n",
       "2022-01-01 15:07:00+00:00  46972.5  46972.5  46972.0  46972.0   5.794\n",
       "2022-01-01 15:08:00+00:00  46972.0  46972.5  46972.0  46972.5  17.241\n",
       "2022-01-01 15:09:00+00:00  46972.5  46972.5  46950.0  46950.0   8.212\n",
       "2022-01-01 15:10:00+00:00  46950.0  46950.5  46939.0  46939.0   2.851\n",
       "2022-01-01 15:11:00+00:00  46939.0  46939.0  46926.0  46926.5  13.262\n",
       "\n",
       "[931957 rows x 5 columns]"
      ]
     },
     "metadata": {},
     "output_type": "display_data"
    }
   ],
   "source": [
    "bybit = ccxt.bybit()\n",
    "fetcher = BybitFetcher(ccxt_client=bybit)\n",
    "\n",
    "df = fetcher.fetch_ohlcv(\n",
    "    market='BTCUSDT', # 市場のシンボルを指定。この場合は https://ftx.com/trade/BTC-PERP を取得\n",
    "    interval_sec=1 * 60, # 足の間隔を秒単位で指定。この場合は5分足\n",
    ")\n",
    "\n",
    "display(df)"
   ]
  },
  {
   "cell_type": "code",
   "execution_count": 4,
   "id": "d810d530-feb5-43f5-9152-6b8d520e5646",
   "metadata": {},
   "outputs": [],
   "source": [
    "d2 = df[df.index >= '2021-12-01 00:00:00']"
   ]
  },
  {
   "cell_type": "code",
   "execution_count": 5,
   "id": "c28c48f8-cc15-413b-a5c5-6b3d2ba387ce",
   "metadata": {},
   "outputs": [],
   "source": [
    "d2.to_csv('bybit_usdt_m.csv')"
   ]
  },
  {
   "cell_type": "code",
   "execution_count": 2,
   "id": "7d730481-e1dc-4153-a36b-8b2c3a2a535a",
   "metadata": {},
   "outputs": [],
   "source": [
    "d2 = pd.read_csv('bybit_usdt_m.csv')"
   ]
  },
  {
   "cell_type": "code",
   "execution_count": 3,
   "id": "641f9255-dfec-4336-b605-031b5efc76d3",
   "metadata": {},
   "outputs": [],
   "source": [
    "o_dif = 300 # 現在の価格からどれくらい離れた価格に指値を出すか\n",
    "s_dif = 150 # 決済注文をどれくらい離れた価格で出すか"
   ]
  },
  {
   "cell_type": "code",
   "execution_count": 4,
   "id": "ae0dffc2-c00a-4685-9b2a-830e7000f19a",
   "metadata": {},
   "outputs": [],
   "source": [
    "d2['ord']=0"
   ]
  },
  {
   "cell_type": "code",
   "execution_count": 5,
   "id": "bb97b2dc-04ff-4640-82a1-4454a155be21",
   "metadata": {},
   "outputs": [],
   "source": [
    "d2['ord'] = d2['cl'].shift()"
   ]
  },
  {
   "cell_type": "code",
   "execution_count": 6,
   "id": "59eb0612-d18b-4900-978d-6342f9f8f233",
   "metadata": {},
   "outputs": [],
   "source": [
    "d2['ord'] = d2['ord'] - o_dif"
   ]
  },
  {
   "cell_type": "code",
   "execution_count": 7,
   "id": "41df0c37-3d9c-4156-b08a-9f5963e28c58",
   "metadata": {},
   "outputs": [],
   "source": [
    "d=d2['ord']>d2['lo']"
   ]
  },
  {
   "cell_type": "code",
   "execution_count": 8,
   "id": "d2e880bc-88a7-4c26-ba61-2c171f8095e7",
   "metadata": {},
   "outputs": [],
   "source": [
    "d2['pos']=0\n",
    "d2['stl']=0\n",
    "d2['sts']=0\n",
    "d2['pl']=0"
   ]
  },
  {
   "cell_type": "code",
   "execution_count": 9,
   "id": "f34fcb33-3a99-4a98-8abb-820c086b3565",
   "metadata": {},
   "outputs": [],
   "source": [
    "p = 0\n",
    "for index, row in d2.iterrows():\n",
    "    if index == 0:\n",
    "        continue\n",
    "    if d2.at[index-1, 'pos'] != 0:\n",
    "        d2.at[index, 'stl']=d2.at[index-1, 'pos'] + s_dif\n",
    "        d2.at[index, 'sts']=d2.at[index-1, 'pos'] - s_dif\n",
    "    \n",
    "    if d2.at[index, 'sts'] != 0 and d2.at[index, 'sts'] > d2.at[index, 'lo']:\n",
    "        d2.at[index, 'pos'] = 0\n",
    "        d2.at[index, 'pl'] = -1*s_dif\n",
    "    elif d2.at[index, 'stl'] != 0 and d2.at[index, 'stl'] < d2.at[index, 'hi']:\n",
    "        d2.at[index, 'pos'] = 0\n",
    "        d2.at[index, 'pl'] = s_dif\n",
    "    else:\n",
    "        d2.at[index, 'pos'] = d2.at[index-1, 'pos']\n",
    "    \n",
    "    if d2.at[index-1, 'pos'] == 0 and row['ord']>row['lo']:\n",
    "        d2.at[index, 'pos']=row['ord']\n"
   ]
  },
  {
   "cell_type": "code",
   "execution_count": 27,
   "id": "3198b80c-3427-4376-bdf1-35c7267c2767",
   "metadata": {},
   "outputs": [],
   "source": [
    "d2.to_csv('bybit_usdt_result.csv')"
   ]
  },
  {
   "cell_type": "code",
   "execution_count": 10,
   "id": "f5dc0c2e-1e71-42e5-a213-8e2ced9f6b1f",
   "metadata": {},
   "outputs": [],
   "source": [
    "d2['sum']=d2['pl'].cumsum()"
   ]
  },
  {
   "cell_type": "code",
   "execution_count": 11,
   "id": "b0a0f65a-d0fe-48f4-8406-6fcbf3bd2b49",
   "metadata": {},
   "outputs": [],
   "source": [
    "import matplotlib.pyplot as plt\n"
   ]
  },
  {
   "cell_type": "code",
   "execution_count": 12,
   "id": "431c7586-ea16-41ad-ac71-9b0cb96317a0",
   "metadata": {},
   "outputs": [
    {
     "data": {
      "text/plain": [
       "[<matplotlib.lines.Line2D at 0x7f0aeef4cac0>]"
      ]
     },
     "execution_count": 12,
     "metadata": {},
     "output_type": "execute_result"
    },
    {
     "data": {
      "image/png": "[encoded data removed]",
      "text/plain": [
       "<Figure size 432x288 with 2 Axes>"
      ]
     },
     "metadata": {
      "needs_background": "light"
     },
     "output_type": "display_data"
    }
   ],
   "source": [
    "fig = plt.figure()\n",
    "ax = fig.add_subplot(211)\n",
    "ax.plot(d2['sum'])\n",
    "ax = fig.add_subplot(212)\n",
    "ax.plot(d2['cl'])"
   ]
  },
  {
   "cell_type": "code",
   "execution_count": 4,
   "id": "91724a5f-06f7-4ef0-9a14-c1174495d9c2",
   "metadata": {},
   "outputs": [],
   "source": [
    "o_dif_list = list(range(50,501,50))\n",
    "s_dif_list = list(range(50,201,10))"
   ]
  },
  {
   "cell_type": "code",
   "execution_count": 5,
   "id": "720a34f3-20ec-4ba4-8ef7-f824ffef67ea",
   "metadata": {},
   "outputs": [],
   "source": [
    "def hige(d2, o_dif, s_dif):\n",
    "    d2['ord']=0\n",
    "    d2['pos']=0\n",
    "    d2['stl']=0\n",
    "    d2['sts']=0\n",
    "    d2['pl']=0\n",
    "    \n",
    "    d2['ord'] = d2['cl'].shift()\n",
    "    d2['ord'] = d2['ord'] - o_dif\n",
    "    \n",
    "    for index, row in d2.iterrows():\n",
    "        if index == 0:\n",
    "            continue\n",
    "        if d2.at[index-1, 'pos'] != 0:\n",
    "            d2.at[index, 'stl']=d2.at[index-1, 'pos'] + s_dif\n",
    "            d2.at[index, 'sts']=d2.at[index-1, 'pos'] - s_dif\n",
    "        \n",
    "        if d2.at[index, 'sts'] != 0 and d2.at[index, 'sts'] > d2.at[index, 'lo']:\n",
    "            d2.at[index, 'pos'] = 0\n",
    "            d2.at[index, 'pl'] = -1*s_dif\n",
    "        elif d2.at[index, 'stl'] != 0 and d2.at[index, 'stl'] < d2.at[index, 'hi']:\n",
    "            d2.at[index, 'pos'] = 0\n",
    "            d2.at[index, 'pl'] = s_dif\n",
    "        else:\n",
    "            d2.at[index, 'pos'] = d2.at[index-1, 'pos']\n",
    "        \n",
    "        if d2.at[index-1, 'pos'] == 0 and row['ord']>row['lo']:\n",
    "            d2.at[index, 'pos']=row['ord']\n",
    "        \n",
    "        d2['sum']=d2['pl'].cumsum()\n",
    "        \n",
    "    return d2"
   ]
  },
  {
   "cell_type": "code",
   "execution_count": 6,
   "id": "04e461fa-2240-45c8-87f0-3d39a637ca13",
   "metadata": {},
   "outputs": [],
   "source": [
    "d2 = pd.read_csv('bybit_usdt_m.csv')\n",
    "d2 = hige(d2, o_dif, s_dif)"
   ]
  },
  {
   "cell_type": "code",
   "execution_count": 7,
   "id": "2a52678b-32a6-49ff-b6b4-33848a6a0027",
   "metadata": {},
   "outputs": [],
   "source": [
    "r=d2.iloc[-1]['sum']\n",
    "bool1 = d2['pl'] != 0\n",
    "trn=bool1.sum()\n",
    "bool2 = d2['pl'] > 0\n",
    "hit=bool2.sum()/trn"
   ]
  },
  {
   "cell_type": "code",
   "execution_count": 8,
   "id": "c5349cdd-3d16-4ee9-a236-4206f6033a73",
   "metadata": {},
   "outputs": [
    {
     "ename": "NameError",
     "evalue": "name 'plt' is not defined",
     "output_type": "error",
     "traceback": [
      "\u001b[0;31m---------------------------------------------------------------------------\u001b[0m",
      "\u001b[0;31mNameError\u001b[0m                                 Traceback (most recent call last)",
      "\u001b[0;32m/tmp/ipykernel_220/3613266048.py\u001b[0m in \u001b[0;36m<module>\u001b[0;34m\u001b[0m\n\u001b[0;32m----> 1\u001b[0;31m \u001b[0mfig\u001b[0m \u001b[0;34m=\u001b[0m \u001b[0mplt\u001b[0m\u001b[0;34m.\u001b[0m\u001b[0mfigure\u001b[0m\u001b[0;34m(\u001b[0m\u001b[0;34m)\u001b[0m\u001b[0;34m\u001b[0m\u001b[0;34m\u001b[0m\u001b[0m\n\u001b[0m\u001b[1;32m      2\u001b[0m \u001b[0max\u001b[0m \u001b[0;34m=\u001b[0m \u001b[0mfig\u001b[0m\u001b[0;34m.\u001b[0m\u001b[0madd_subplot\u001b[0m\u001b[0;34m(\u001b[0m\u001b[0;36m211\u001b[0m\u001b[0;34m)\u001b[0m\u001b[0;34m\u001b[0m\u001b[0;34m\u001b[0m\u001b[0m\n\u001b[1;32m      3\u001b[0m \u001b[0max\u001b[0m\u001b[0;34m.\u001b[0m\u001b[0mplot\u001b[0m\u001b[0;34m(\u001b[0m\u001b[0md2\u001b[0m\u001b[0;34m[\u001b[0m\u001b[0;34m'sum'\u001b[0m\u001b[0;34m]\u001b[0m\u001b[0;34m)\u001b[0m\u001b[0;34m\u001b[0m\u001b[0;34m\u001b[0m\u001b[0m\n\u001b[1;32m      4\u001b[0m \u001b[0max\u001b[0m \u001b[0;34m=\u001b[0m \u001b[0mfig\u001b[0m\u001b[0;34m.\u001b[0m\u001b[0madd_subplot\u001b[0m\u001b[0;34m(\u001b[0m\u001b[0;36m212\u001b[0m\u001b[0;34m)\u001b[0m\u001b[0;34m\u001b[0m\u001b[0;34m\u001b[0m\u001b[0m\n\u001b[1;32m      5\u001b[0m \u001b[0max\u001b[0m\u001b[0;34m.\u001b[0m\u001b[0mplot\u001b[0m\u001b[0;34m(\u001b[0m\u001b[0md2\u001b[0m\u001b[0;34m[\u001b[0m\u001b[0;34m'cl'\u001b[0m\u001b[0;34m]\u001b[0m\u001b[0;34m)\u001b[0m\u001b[0;34m\u001b[0m\u001b[0;34m\u001b[0m\u001b[0m\n",
      "\u001b[0;31mNameError\u001b[0m: name 'plt' is not defined"
     ]
    }
   ],
   "source": [
    "fig = plt.figure()\n",
    "ax = fig.add_subplot(211)\n",
    "ax.plot(d2['sum'])\n",
    "ax = fig.add_subplot(212)\n",
    "ax.plot(d2['cl'])"
   ]
  },
  {
   "cell_type": "code",
   "execution_count": 9,
   "id": "c292cb06-3bd0-474f-bfbd-24fadb730b1c",
   "metadata": {},
   "outputs": [],
   "source": [
    "import itertools\n",
    "p = list(itertools.product(o_dif_list, s_dif_list))"
   ]
  },
  {
   "cell_type": "code",
   "execution_count": 10,
   "id": "557e1470-5d58-4adb-a3e8-dab120362992",
   "metadata": {},
   "outputs": [],
   "source": [
    "rs = pd.DataFrame(columns=['o_dif', 's_dif','r', 'trn', 'hit'])"
   ]
  },
  {
   "cell_type": "code",
   "execution_count": 11,
   "id": "7fb80c02-f6d5-4a13-b648-9a4aa62f8b6c",
   "metadata": {},
   "outputs": [
    {
     "name": "stdout",
     "output_type": "stream",
     "text": [
      "50 50\n",
      "50 60\n",
      "50 70\n",
      "50 80\n",
      "50 90\n",
      "50 100\n",
      "50 110\n",
      "50 120\n",
      "50 130\n",
      "50 140\n",
      "50 150\n",
      "50 160\n",
      "50 170\n",
      "50 180\n",
      "50 190\n",
      "50 200\n",
      "100 50\n",
      "100 60\n",
      "100 70\n",
      "100 80\n",
      "100 90\n",
      "100 100\n",
      "100 110\n",
      "100 120\n",
      "100 130\n",
      "100 140\n",
      "100 150\n",
      "100 160\n",
      "100 170\n",
      "100 180\n",
      "100 190\n",
      "100 200\n",
      "150 50\n",
      "150 60\n",
      "150 70\n",
      "150 80\n",
      "150 90\n",
      "150 100\n",
      "150 110\n",
      "150 120\n",
      "150 130\n",
      "150 140\n",
      "150 150\n",
      "150 160\n",
      "150 170\n",
      "150 180\n",
      "150 190\n",
      "150 200\n",
      "200 50\n",
      "200 60\n",
      "200 70\n",
      "200 80\n",
      "200 90\n",
      "200 100\n",
      "200 110\n",
      "200 120\n",
      "200 130\n",
      "200 140\n",
      "200 150\n",
      "200 160\n",
      "200 170\n",
      "200 180\n",
      "200 190\n",
      "200 200\n",
      "250 50\n",
      "250 60\n",
      "250 70\n",
      "250 80\n",
      "250 90\n",
      "250 100\n",
      "250 110\n",
      "250 120\n",
      "250 130\n",
      "250 140\n",
      "250 150\n",
      "250 160\n",
      "250 170\n",
      "250 180\n",
      "250 190\n",
      "250 200\n",
      "300 50\n",
      "300 60\n",
      "300 70\n",
      "300 80\n",
      "300 90\n",
      "300 100\n",
      "300 110\n",
      "300 120\n",
      "300 130\n",
      "300 140\n",
      "300 150\n",
      "300 160\n",
      "300 170\n",
      "300 180\n",
      "300 190\n",
      "300 200\n",
      "350 50\n",
      "350 60\n",
      "350 70\n",
      "350 80\n",
      "350 90\n",
      "350 100\n",
      "350 110\n",
      "350 120\n",
      "350 130\n",
      "350 140\n",
      "350 150\n",
      "350 160\n",
      "350 170\n",
      "350 180\n",
      "350 190\n",
      "350 200\n",
      "400 50\n",
      "400 60\n",
      "400 70\n",
      "400 80\n",
      "400 90\n",
      "400 100\n",
      "400 110\n",
      "400 120\n",
      "400 130\n",
      "400 140\n",
      "400 150\n",
      "400 160\n",
      "400 170\n",
      "400 180\n",
      "400 190\n",
      "400 200\n",
      "450 50\n",
      "450 60\n",
      "450 70\n",
      "450 80\n",
      "450 90\n",
      "450 100\n",
      "450 110\n",
      "450 120\n",
      "450 130\n",
      "450 140\n",
      "450 150\n",
      "450 160\n",
      "450 170\n",
      "450 180\n",
      "450 190\n",
      "450 200\n",
      "500 50\n",
      "500 60\n",
      "500 70\n",
      "500 80\n",
      "500 90\n",
      "500 100\n",
      "500 110\n",
      "500 120\n",
      "500 130\n",
      "500 140\n",
      "500 150\n",
      "500 160\n",
      "500 170\n",
      "500 180\n",
      "500 190\n",
      "500 200\n"
     ]
    }
   ],
   "source": [
    "for o_dif, s_dif in itertools.product(o_dif_list, s_dif_list):\n",
    "    print(o_dif, s_dif)\n",
    "    d2 = pd.read_csv('bybit_usdt_m.csv')\n",
    "    d2 = hige(d2, o_dif, s_dif)\n",
    "    r=d2.iloc[-1]['sum']\n",
    "    bool1 = d2['pl'] != 0\n",
    "    trn=bool1.sum()\n",
    "    bool2 = d2['pl'] > 0\n",
    "    hit=bool2.sum()/trn\n",
    "    rs = rs.append({'o_dif': o_dif, 's_dif': s_dif, 'r': r, 'trn': trn, 'hit': hit}, ignore_index=True)"
   ]
  },
  {
   "cell_type": "code",
   "execution_count": 12,
   "id": "1435fe15-4857-4bde-a9b1-0fc1d08da652",
   "metadata": {},
   "outputs": [],
   "source": [
    "rs.to_csv('rs.csv')"
   ]
  },
  {
   "cell_type": "code",
   "execution_count": null,
   "id": "00b17489-cdb9-4959-8014-a3fbc0c8f3c3",
   "metadata": {},
   "outputs": [],
   "source": []
  }
 ],
 "metadata": {
  "kernelspec": {
   "display_name": "Python 3 (ipykernel)",
   "language": "python",
   "name": "python3"
  },
  "language_info": {
   "codemirror_mode": {
    "name": "ipython",
    "version": 3
   },
   "file_extension": ".py",
   "mimetype": "text/x-python",
   "name": "python",
   "nbconvert_exporter": "python",
   "pygments_lexer": "ipython3",
   "version": "3.8.12"
  }
 },
 "nbformat": 4,
 "nbformat_minor": 5
}
