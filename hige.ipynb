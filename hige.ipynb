{
 "cells": [
  {
   "cell_type": "code",
   "execution_count": 1,
   "id": "829f17ce-af67-4830-8137-ea571b155ae4",
   "metadata": {},
   "outputs": [],
   "source": [
    "import asyncio\n",
    "import time\n",
    "import pybotters"
   ]
  },
  {
   "cell_type": "code",
   "execution_count": 7,
   "id": "f676bab6-8791-4729-8f99-d42f5aca5d92",
   "metadata": {},
   "outputs": [],
   "source": [
    "# apis\n",
    "apis = {\n",
    "    'bybit': ['5hL7CgShoaOYo00G4M', 'AmRtXO5X6mRCuKX7dFg7WdS6iecXapVsRb2D']\n",
    "}"
   ]
  },
  {
   "cell_type": "code",
   "execution_count": 8,
   "id": "2058bed0-e83a-4796-b5aa-a32be1248915",
   "metadata": {},
   "outputs": [],
   "source": [
    "async def main():\n",
    "    async with pybotters.Client(apis=apis, base_url='https://api.bybit.com') as client:\n",
    "        resps = await asyncio.gather(\n",
    "            client.get('/v2/public/kline/list', params={\n",
    "                'symbol': 'BTCUSD', 'interval': 1, 'from': int(time.time()) - 3600\n",
    "            }),\n",
    "            client.get('/v2/private/order', params={'symbol': 'BTCUSD'}),\n",
    "            client.get('/v2/private/position/list', params={'symbol': 'BTCUSD'}),\n",
    "        )\n",
    "        kline, order, position = await asyncio.gather(*[r.json() for r in resps])\n",
    "        print(kline)"
   ]
  },
  {
   "cell_type": "code",
   "execution_count": 9,
   "id": "b44f9927-e51f-4767-b82a-c8df87545d50",
   "metadata": {},
   "outputs": [
    {
     "data": {
      "text/plain": [
       "<coroutine object main at 0x7fc6b07e1c40>"
      ]
     },
     "execution_count": 9,
     "metadata": {},
     "output_type": "execute_result"
    }
   ],
   "source": [
    "main()"
   ]
  },
  {
   "cell_type": "code",
   "execution_count": 16,
   "id": "5093a4c5-61f1-422d-8f31-bb4ac7659482",
   "metadata": {},
   "outputs": [
    {
     "name": "stderr",
     "output_type": "stream",
     "text": [
      "/home/nske/miniconda3/envs/jp38/lib/python3.8/selectors.py:471: RuntimeWarning: coroutine 'main' was never awaited\n",
      "  for fd, event in fd_event_list:\n",
      "RuntimeWarning: Enable tracemalloc to get the object allocation traceback\n"
     ]
    },
    {
     "ename": "CancelledError",
     "evalue": "",
     "output_type": "error",
     "traceback": [
      "\u001b[0;31m---------------------------------------------------------------------------\u001b[0m",
      "\u001b[0;31mCancelledError\u001b[0m                            Traceback (most recent call last)",
      "\u001b[0;32m/tmp/ipykernel_631/485199628.py\u001b[0m in \u001b[0;36m<module>\u001b[0;34m\u001b[0m\n\u001b[1;32m      1\u001b[0m \u001b[0;32masync\u001b[0m \u001b[0;32mwith\u001b[0m \u001b[0mpybotters\u001b[0m\u001b[0;34m.\u001b[0m\u001b[0mClient\u001b[0m\u001b[0;34m(\u001b[0m\u001b[0mapis\u001b[0m\u001b[0;34m=\u001b[0m\u001b[0mapis\u001b[0m\u001b[0;34m,\u001b[0m \u001b[0mbase_url\u001b[0m\u001b[0;34m=\u001b[0m\u001b[0;34m'https://api.bybit.com'\u001b[0m\u001b[0;34m)\u001b[0m \u001b[0;32mas\u001b[0m \u001b[0mclient\u001b[0m\u001b[0;34m:\u001b[0m\u001b[0;34m\u001b[0m\u001b[0;34m\u001b[0m\u001b[0m\n\u001b[0;32m----> 2\u001b[0;31m     resps = await asyncio.gather(\n\u001b[0m\u001b[1;32m      3\u001b[0m         client.get('/v2/public/kline/list', params={\n\u001b[1;32m      4\u001b[0m             \u001b[0;34m'symbol'\u001b[0m\u001b[0;34m:\u001b[0m \u001b[0;34m'BTCUSD'\u001b[0m\u001b[0;34m,\u001b[0m \u001b[0;34m'interval'\u001b[0m\u001b[0;34m:\u001b[0m \u001b[0;36m1\u001b[0m\u001b[0;34m,\u001b[0m \u001b[0;34m'from'\u001b[0m\u001b[0;34m:\u001b[0m \u001b[0mint\u001b[0m\u001b[0;34m(\u001b[0m\u001b[0mtime\u001b[0m\u001b[0;34m.\u001b[0m\u001b[0mtime\u001b[0m\u001b[0;34m(\u001b[0m\u001b[0;34m)\u001b[0m\u001b[0;34m)\u001b[0m \u001b[0;34m-\u001b[0m \u001b[0;36m3600\u001b[0m\u001b[0;34m\u001b[0m\u001b[0;34m\u001b[0m\u001b[0m\n\u001b[1;32m      5\u001b[0m         }),\n",
      "\u001b[0;31mCancelledError\u001b[0m: "
     ]
    }
   ],
   "source": [
    "async with pybotters.Client(apis=apis, base_url='https://api.bybit.com') as client:\n",
    "    resps = await asyncio.gather(\n",
    "        client.get('/v2/public/kline/list', params={\n",
    "            'symbol': 'BTCUSD', 'interval': 1, 'from': int(time.time()) - 3600\n",
    "        }),\n",
    "        client.get('/v2/private/order', params={'symbol': 'BTCUSD'}),\n",
    "        client.get('/v2/private/position/list', params={'symbol': 'BTCUSD'}),\n",
    "    )\n",
    "    kline, order, position = await asyncio.gather(*[r.json() for r in resps])\n",
    "    print(kline._keys)"
   ]
  },
  {
   "cell_type": "code",
   "execution_count": null,
   "id": "a7abe3a7-c7a7-4353-9474-7d5a891a01bc",
   "metadata": {},
   "outputs": [],
   "source": []
  }
 ],
 "metadata": {
  "kernelspec": {
   "display_name": "Python 3 (ipykernel)",
   "language": "python",
   "name": "python3"
  },
  "language_info": {
   "codemirror_mode": {
    "name": "ipython",
    "version": 3
   },
   "file_extension": ".py",
   "mimetype": "text/x-python",
   "name": "python",
   "nbconvert_exporter": "python",
   "pygments_lexer": "ipython3",
   "version": "3.8.12"
  }
 },
 "nbformat": 4,
 "nbformat_minor": 5
}
